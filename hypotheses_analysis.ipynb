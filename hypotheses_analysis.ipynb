{
 "cells": [
  {
   "cell_type": "code",
   "execution_count": 1,
   "metadata": {},
   "outputs": [],
   "source": [
    "import pandas as pd\n",
    "from scipy import stats\n",
    "from scipy.stats import levene\n",
    "from scipy.stats import f_oneway\n",
    "from scipy.stats import wilcoxon"
   ]
  },
  {
   "cell_type": "code",
   "execution_count": 2,
   "metadata": {},
   "outputs": [],
   "source": [
    "# Carregando dados\n",
    "\n",
    "cnn_metrics = pd.read_excel(r'metrics/cnn/cnn.xlsx')\n",
    "rnn_metrics = pd.read_excel(r'metrics/rnn/rnn.xlsx')\n",
    "\n",
    "# Acurácias\n",
    "resultAccuracyCnn = list(cnn_metrics[\"Acurácia\"])\n",
    "resultAccuracyRnn = list(rnn_metrics[\"Acurácia\"])\n",
    "\n",
    "# F1\n",
    "resultF1Cnn = list(cnn_metrics[\"F1\"])\n",
    "resultF1Rnn = list(rnn_metrics[\"F1\"])\n",
    "\n",
    "# Recall\n",
    "resultRecallCnn = list(cnn_metrics[\"Recall\"])\n",
    "resultRecallRnn = list(rnn_metrics[\"Recall\"])\n",
    "\n",
    "# Precision\n",
    "resultPrecisionCnn = list(cnn_metrics[\"Precisão\"])\n",
    "resultPrecisionRnn = list(rnn_metrics[\"Precisão\"])\n",
    "\n",
    "# Training Time\n",
    "resultTrainingTimeCnn = list(cnn_metrics[\"Tempo de treinamento\"])\n",
    "resultTrainingTimeRnn = list(rnn_metrics[\"Tempo de treinamento\"])\n",
    "\n",
    "\n",
    "# Classification Time\n",
    "resultClassificationTimeCnn = list(cnn_metrics[\"Tempo de classificação\"])\n",
    "resultClassificationTimeRnn = list(rnn_metrics[\"Tempo de classificação\"])"
   ]
  },
  {
   "cell_type": "markdown",
   "metadata": {},
   "source": [
    "#### - Tendo os resultados das métricas para cada um dos modelos salvos, iremos validar as hipoteses utilizando o teste de anova caso não seja rejeitado o resultado do teste de shapiro e levene. Caso contrário iremos aplicar o teste de wilcoxon.\n",
    "\n",
    "#### - Para utilização do teste, será necessário validar inicialmente se a distribuição de dados é normal de acordo com o **teste de shapiro** e se a distribuição dos dados é homogenia com o **teste de levene**. Somente com o resultado desses testes, será possivel realizar o teste de anova.\n",
    "\n",
    "#### - A análise de acordo com os resultados dos testes, será feita levando em consideração um alfa de 0,05, sendo que os valores obtidos para o p-value terão de ser maior que o valor de alfa, caso contrário será rejeitada a hipotese nula.\n",
    "\n",
    "#### - A descrição das hipostese nula e alternativa para o teste de **anova** são demonstradas abaixo:\n",
    "\n",
    "H0 - As médias do grupo são todas iguais<br>\n",
    "HA - Nem todas as médias do grupo são iguais.<br>\n",
    "\n",
    "#### - A descrição das hipostese nula e alternativa para o teste de **wilcoxon** são demonstradas abaixo:\n",
    "\n",
    "H0 = Os dados seguem a mesma distribuição<br>\n",
    "HA = Os dados são de distribuições distintas\n"
   ]
  },
  {
   "cell_type": "markdown",
   "metadata": {},
   "source": [
    "## Análise para acurácia"
   ]
  },
  {
   "cell_type": "markdown",
   "metadata": {},
   "source": [
    "#### Shapiro para o modelo cnn"
   ]
  },
  {
   "cell_type": "code",
   "execution_count": 3,
   "metadata": {},
   "outputs": [
    {
     "name": "stdout",
     "output_type": "stream",
     "text": [
      "estatistica = 0.9098297953605652\n",
      "p-value = 0.012796293944120407\n"
     ]
    }
   ],
   "source": [
    "shapiro_test_cnn = stats.shapiro(resultAccuracyCnn)\n",
    "\n",
    "print(\"estatistica = {}\\np-value = {}\".format(shapiro_test_cnn[0], shapiro_test_cnn[1]))"
   ]
  },
  {
   "cell_type": "markdown",
   "metadata": {},
   "source": [
    "#### Shapiro para o modelo de rnn"
   ]
  },
  {
   "cell_type": "code",
   "execution_count": 4,
   "metadata": {},
   "outputs": [
    {
     "name": "stdout",
     "output_type": "stream",
     "text": [
      "estatistica = 0.9700627326965332\n",
      "p-value = 0.5207948088645935\n"
     ]
    }
   ],
   "source": [
    "shapiro_test_rnn = stats.shapiro(resultAccuracyRnn)\n",
    "\n",
    "print(\"estatistica = {}\\np-value = {}\".format(shapiro_test_rnn[0], shapiro_test_rnn[1]))"
   ]
  },
  {
   "cell_type": "markdown",
   "metadata": {},
   "source": [
    "#### Teste de levene para os modelos de CNN e RNN"
   ]
  },
  {
   "cell_type": "code",
   "execution_count": 5,
   "metadata": {},
   "outputs": [
    {
     "name": "stdout",
     "output_type": "stream",
     "text": [
      "estatistica = 3.3571830356289873\n",
      "p-value = 0.07187645402657077\n"
     ]
    }
   ],
   "source": [
    "stat, p_levene = levene(resultAccuracyCnn, resultAccuracyRnn)\n",
    "\n",
    "print(\"estatistica = {}\\np-value = {}\".format(stat, p_levene))"
   ]
  },
  {
   "cell_type": "code",
   "execution_count": 6,
   "metadata": {},
   "outputs": [
    {
     "name": "stdout",
     "output_type": "stream",
     "text": [
      "estatistica = 0.0\n",
      "p-value = 1.1735028812661596e-06\n"
     ]
    }
   ],
   "source": [
    "result_wilcoxon = wilcoxon(resultAccuracyCnn, resultAccuracyRnn)\n",
    "\n",
    "print(\"estatistica = {}\\np-value = {}\".format(result_wilcoxon[0], result_wilcoxon[1]))"
   ]
  },
  {
   "cell_type": "markdown",
   "metadata": {},
   "source": []
  },
  {
   "cell_type": "markdown",
   "metadata": {},
   "source": [
    "## Análise para F1"
   ]
  },
  {
   "cell_type": "markdown",
   "metadata": {},
   "source": [
    "#### Shapiro para o modelo cnn"
   ]
  },
  {
   "cell_type": "code",
   "execution_count": 7,
   "metadata": {},
   "outputs": [
    {
     "name": "stdout",
     "output_type": "stream",
     "text": [
      "estatistica = 0.8963639140129089\n",
      "p-value = 0.00585570652037859\n"
     ]
    }
   ],
   "source": [
    "shapiro_test_cnn = stats.shapiro(resultF1Cnn)\n",
    "\n",
    "print(\"estatistica = {}\\np-value = {}\".format(shapiro_test_cnn[0], shapiro_test_cnn[1]))"
   ]
  },
  {
   "cell_type": "markdown",
   "metadata": {},
   "source": [
    "#### Shapiro para o modelo de rnn"
   ]
  },
  {
   "cell_type": "code",
   "execution_count": 8,
   "metadata": {},
   "outputs": [
    {
     "name": "stdout",
     "output_type": "stream",
     "text": [
      "estatistica = 0.9686749577522278\n",
      "p-value = 0.4833540916442871\n"
     ]
    }
   ],
   "source": [
    "shapiro_test_rnn = stats.shapiro(resultF1Rnn)\n",
    "\n",
    "print(\"estatistica = {}\\np-value = {}\".format(shapiro_test_rnn[0], shapiro_test_rnn[1]))"
   ]
  },
  {
   "cell_type": "markdown",
   "metadata": {},
   "source": [
    "#### Teste de levene para os modelos de CNN e RNN"
   ]
  },
  {
   "cell_type": "code",
   "execution_count": 9,
   "metadata": {},
   "outputs": [
    {
     "name": "stdout",
     "output_type": "stream",
     "text": [
      "estatistica = 2.110295118816628\n",
      "p-value = 0.15152107494524486\n"
     ]
    }
   ],
   "source": [
    "stat, p_levene = levene(resultF1Cnn, resultF1Rnn)\n",
    "\n",
    "print(\"estatistica = {}\\np-value = {}\".format(stat, p_levene))"
   ]
  },
  {
   "cell_type": "code",
   "execution_count": 10,
   "metadata": {},
   "outputs": [
    {
     "name": "stdout",
     "output_type": "stream",
     "text": [
      "estatistica = 0.0\n",
      "p-value = 1.1741945398998534e-06\n"
     ]
    }
   ],
   "source": [
    "result_wilcoxon = wilcoxon(resultF1Cnn, resultF1Rnn)\n",
    "\n",
    "print(\"estatistica = {}\\np-value = {}\".format(result_wilcoxon[0], result_wilcoxon[1]))"
   ]
  },
  {
   "cell_type": "markdown",
   "metadata": {},
   "source": []
  },
  {
   "cell_type": "markdown",
   "metadata": {},
   "source": [
    "## Análise para Recall"
   ]
  },
  {
   "cell_type": "markdown",
   "metadata": {},
   "source": [
    "#### Shapiro para o modelo cnn"
   ]
  },
  {
   "cell_type": "code",
   "execution_count": 11,
   "metadata": {},
   "outputs": [
    {
     "name": "stdout",
     "output_type": "stream",
     "text": [
      "estatistica = 0.9098297953605652\n",
      "p-value = 0.012796293944120407\n"
     ]
    }
   ],
   "source": [
    "shapiro_test_cnn = stats.shapiro(resultRecallCnn)\n",
    "\n",
    "print(\"estatistica = {}\\np-value = {}\".format(shapiro_test_cnn[0], shapiro_test_cnn[1]))"
   ]
  },
  {
   "cell_type": "markdown",
   "metadata": {},
   "source": [
    "#### Shapiro para o modelo de rnn"
   ]
  },
  {
   "cell_type": "code",
   "execution_count": 12,
   "metadata": {},
   "outputs": [
    {
     "name": "stdout",
     "output_type": "stream",
     "text": [
      "estatistica = 0.9700627326965332\n",
      "p-value = 0.5207948088645935\n"
     ]
    }
   ],
   "source": [
    "shapiro_test_rnn = stats.shapiro(resultRecallRnn)\n",
    "\n",
    "print(\"estatistica = {}\\np-value = {}\".format(shapiro_test_rnn[0], shapiro_test_rnn[1]))"
   ]
  },
  {
   "cell_type": "markdown",
   "metadata": {},
   "source": [
    "#### Teste de levene para os modelos de CNN e RNN"
   ]
  },
  {
   "cell_type": "code",
   "execution_count": 13,
   "metadata": {},
   "outputs": [
    {
     "name": "stdout",
     "output_type": "stream",
     "text": [
      "estatistica = 3.3571830356289873\n",
      "p-value = 0.07187645402657077\n"
     ]
    }
   ],
   "source": [
    "stat, p_levene = levene(resultRecallCnn, resultRecallRnn)\n",
    "\n",
    "print(\"estatistica = {}\\np-value = {}\".format(stat, p_levene))"
   ]
  },
  {
   "cell_type": "code",
   "execution_count": 14,
   "metadata": {},
   "outputs": [
    {
     "name": "stdout",
     "output_type": "stream",
     "text": [
      "estatistica = 0.0\n",
      "p-value = 1.1735028812661596e-06\n"
     ]
    }
   ],
   "source": [
    "result_wilcoxon = wilcoxon(resultRecallCnn, resultRecallRnn)\n",
    "\n",
    "print(\"estatistica = {}\\np-value = {}\".format(result_wilcoxon[0], result_wilcoxon[1]))"
   ]
  },
  {
   "cell_type": "markdown",
   "metadata": {},
   "source": []
  },
  {
   "cell_type": "markdown",
   "metadata": {},
   "source": [
    "## Análise para Precisão"
   ]
  },
  {
   "cell_type": "markdown",
   "metadata": {},
   "source": [
    "#### Shapiro para o modelo cnn"
   ]
  },
  {
   "cell_type": "code",
   "execution_count": 15,
   "metadata": {},
   "outputs": [
    {
     "name": "stdout",
     "output_type": "stream",
     "text": [
      "estatistica = 0.8921672701835632\n",
      "p-value = 0.004621029365807772\n"
     ]
    }
   ],
   "source": [
    "shapiro_test_cnn = stats.shapiro(resultPrecisionCnn)\n",
    "\n",
    "print(\"estatistica = {}\\np-value = {}\".format(shapiro_test_cnn[0], shapiro_test_cnn[1]))"
   ]
  },
  {
   "cell_type": "markdown",
   "metadata": {},
   "source": [
    "#### Shapiro para o modelo de rnn"
   ]
  },
  {
   "cell_type": "code",
   "execution_count": 16,
   "metadata": {},
   "outputs": [
    {
     "name": "stdout",
     "output_type": "stream",
     "text": [
      "estatistica = 0.9564507603645325\n",
      "p-value = 0.23441541194915771\n"
     ]
    }
   ],
   "source": [
    "shapiro_test_rnn = stats.shapiro(resultPrecisionRnn)\n",
    "\n",
    "print(\"estatistica = {}\\np-value = {}\".format(shapiro_test_rnn[0], shapiro_test_rnn[1]))"
   ]
  },
  {
   "cell_type": "markdown",
   "metadata": {},
   "source": [
    "#### Teste de levene para os modelos de CNN e RNN"
   ]
  },
  {
   "cell_type": "code",
   "execution_count": 17,
   "metadata": {},
   "outputs": [
    {
     "name": "stdout",
     "output_type": "stream",
     "text": [
      "estatistica = 0.002409395057919297\n",
      "p-value = 0.9610141220257272\n"
     ]
    }
   ],
   "source": [
    "stat, p_levene = levene(resultPrecisionCnn, resultPrecisionRnn)\n",
    "\n",
    "print(\"estatistica = {}\\np-value = {}\".format(stat, p_levene))"
   ]
  },
  {
   "cell_type": "code",
   "execution_count": 18,
   "metadata": {},
   "outputs": [
    {
     "name": "stdout",
     "output_type": "stream",
     "text": [
      "estatistica = 0.0\n",
      "p-value = 1.1741945398998534e-06\n"
     ]
    }
   ],
   "source": [
    "result_wilcoxon = wilcoxon(resultPrecisionCnn, resultPrecisionRnn)\n",
    "\n",
    "print(\"estatistica = {}\\np-value = {}\".format(result_wilcoxon[0], result_wilcoxon[1]))"
   ]
  },
  {
   "cell_type": "markdown",
   "metadata": {},
   "source": []
  },
  {
   "cell_type": "markdown",
   "metadata": {},
   "source": [
    "## Análise para tempo de treinamento"
   ]
  },
  {
   "cell_type": "markdown",
   "metadata": {},
   "source": [
    "#### Shapiro para o modelo cnn"
   ]
  },
  {
   "cell_type": "code",
   "execution_count": 19,
   "metadata": {},
   "outputs": [
    {
     "name": "stdout",
     "output_type": "stream",
     "text": [
      "estatistica = 0.9333476424217224\n",
      "p-value = 0.054116494953632355\n"
     ]
    }
   ],
   "source": [
    "shapiro_test_cnn = stats.shapiro(resultTrainingTimeCnn)\n",
    "\n",
    "print(\"estatistica = {}\\np-value = {}\".format(shapiro_test_cnn[0], shapiro_test_cnn[1]))"
   ]
  },
  {
   "cell_type": "markdown",
   "metadata": {},
   "source": [
    "#### Shapiro para o modelo de rnn"
   ]
  },
  {
   "cell_type": "code",
   "execution_count": 20,
   "metadata": {},
   "outputs": [
    {
     "name": "stdout",
     "output_type": "stream",
     "text": [
      "estatistica = 0.9859024286270142\n",
      "p-value = 0.9465751647949219\n"
     ]
    }
   ],
   "source": [
    "shapiro_test_rnn = stats.shapiro(resultTrainingTimeRnn)\n",
    "\n",
    "print(\"estatistica = {}\\np-value = {}\".format(shapiro_test_rnn[0], shapiro_test_rnn[1]))"
   ]
  },
  {
   "cell_type": "markdown",
   "metadata": {},
   "source": [
    "#### Teste de levene para os modelos de CNN e RNN"
   ]
  },
  {
   "cell_type": "code",
   "execution_count": 21,
   "metadata": {},
   "outputs": [
    {
     "name": "stdout",
     "output_type": "stream",
     "text": [
      "estatistica = 31.704188227983273\n",
      "p-value = 5.036813431856532e-07\n"
     ]
    }
   ],
   "source": [
    "stat, p_levene = levene(resultTrainingTimeCnn, resultTrainingTimeRnn)\n",
    "\n",
    "print(\"estatistica = {}\\np-value = {}\".format(stat, p_levene))"
   ]
  },
  {
   "cell_type": "code",
   "execution_count": 22,
   "metadata": {},
   "outputs": [
    {
     "name": "stdout",
     "output_type": "stream",
     "text": [
      "estatistica = 0.0\n",
      "p-value = 1.1741945398998534e-06\n"
     ]
    }
   ],
   "source": [
    "result_wilcoxon = wilcoxon(resultTrainingTimeCnn, resultTrainingTimeRnn)\n",
    "\n",
    "print(\"estatistica = {}\\np-value = {}\".format(result_wilcoxon[0], result_wilcoxon[1]))"
   ]
  },
  {
   "cell_type": "markdown",
   "metadata": {},
   "source": [
    "## Análise para tempo de classificação"
   ]
  },
  {
   "cell_type": "markdown",
   "metadata": {},
   "source": [
    "#### Shapiro para o modelo cnn"
   ]
  },
  {
   "cell_type": "code",
   "execution_count": 23,
   "metadata": {},
   "outputs": [
    {
     "name": "stdout",
     "output_type": "stream",
     "text": [
      "estatistica = 0.9605585336685181\n",
      "p-value = 0.30184251070022583\n"
     ]
    }
   ],
   "source": [
    "shapiro_test_cnn = stats.shapiro(resultClassificationTimeCnn)\n",
    "\n",
    "print(\"estatistica = {}\\np-value = {}\".format(shapiro_test_cnn[0], shapiro_test_cnn[1]))"
   ]
  },
  {
   "cell_type": "markdown",
   "metadata": {},
   "source": [
    "#### Shapiro para o modelo de rnn"
   ]
  },
  {
   "cell_type": "code",
   "execution_count": 24,
   "metadata": {},
   "outputs": [
    {
     "name": "stdout",
     "output_type": "stream",
     "text": [
      "estatistica = 0.8301595449447632\n",
      "p-value = 0.00019690555927809328\n"
     ]
    }
   ],
   "source": [
    "shapiro_test_rnn = stats.shapiro(resultClassificationTimeRnn)\n",
    "\n",
    "print(\"estatistica = {}\\np-value = {}\".format(shapiro_test_rnn[0], shapiro_test_rnn[1]))"
   ]
  },
  {
   "cell_type": "markdown",
   "metadata": {},
   "source": [
    "#### Teste de levene para os modelos de CNN e RNN"
   ]
  },
  {
   "cell_type": "code",
   "execution_count": 25,
   "metadata": {},
   "outputs": [
    {
     "name": "stdout",
     "output_type": "stream",
     "text": [
      "estatistica = 0.14971072719784742\n",
      "p-value = 0.700180924181567\n"
     ]
    }
   ],
   "source": [
    "stat, p_levene = levene(resultClassificationTimeCnn, resultClassificationTimeRnn)\n",
    "\n",
    "print(\"estatistica = {}\\np-value = {}\".format(stat, p_levene))"
   ]
  },
  {
   "cell_type": "code",
   "execution_count": 26,
   "metadata": {},
   "outputs": [
    {
     "name": "stdout",
     "output_type": "stream",
     "text": [
      "estatistica = 0.0\n",
      "p-value = 1.1741945398998534e-06\n"
     ]
    }
   ],
   "source": [
    "result_wilcoxon = wilcoxon(resultClassificationTimeCnn, resultClassificationTimeRnn)\n",
    "\n",
    "print(\"estatistica = {}\\np-value = {}\".format(result_wilcoxon[0], result_wilcoxon[1]))"
   ]
  }
 ],
 "metadata": {
  "interpreter": {
   "hash": "59a8a324c1e808578017983f314c6829822097ccea8ce28a30bb26f50bc4cece"
  },
  "kernelspec": {
   "display_name": "Python 3.9.2 64-bit ('venv')",
   "language": "python",
   "name": "python3"
  },
  "language_info": {
   "codemirror_mode": {
    "name": "ipython",
    "version": 3
   },
   "file_extension": ".py",
   "mimetype": "text/x-python",
   "name": "python",
   "nbconvert_exporter": "python",
   "pygments_lexer": "ipython3",
   "version": "3.9.2-final"
  },
  "orig_nbformat": 4
 },
 "nbformat": 4,
 "nbformat_minor": 2
}
