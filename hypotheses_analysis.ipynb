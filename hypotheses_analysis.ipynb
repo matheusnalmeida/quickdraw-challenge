{
 "cells": [
  {
   "cell_type": "code",
   "execution_count": 51,
   "metadata": {},
   "outputs": [],
   "source": [
    "import pandas as pd\n",
    "from scipy import stats\n",
    "from scipy.stats import levene\n",
    "from scipy.stats import f_oneway\n",
    "from scipy.stats import wilcoxon"
   ]
  },
  {
   "cell_type": "code",
   "execution_count": 52,
   "metadata": {},
   "outputs": [],
   "source": [
    "# Carregando dados\n",
    "\n",
    "cnn_metrics = pd.read_excel(r'metrics/cnn/cnn.xlsx')\n",
    "rnn_metrics = pd.read_excel(r'metrics/rnn/rnn.xlsx')\n",
    "\n",
    "# Acurácias\n",
    "resultAccuracyCnn = list(cnn_metrics[\"Acurácia\"])\n",
    "resultAccuracyRnn = list(rnn_metrics[\"Acurácia\"])\n",
    "\n",
    "# F1\n",
    "resultF1Cnn = list(cnn_metrics[\"F1\"])\n",
    "resultF1Rnn = list(rnn_metrics[\"F1\"])\n",
    "\n",
    "# Recall\n",
    "resultRecallCnn = list(cnn_metrics[\"Recall\"])\n",
    "resultRecallRnn = list(rnn_metrics[\"Recall\"])\n",
    "\n",
    "# Precision\n",
    "resultPrecisionCnn = list(cnn_metrics[\"Precisão\"])\n",
    "resultPrecisionRnn = list(rnn_metrics[\"Precisão\"])\n",
    "\n",
    "# Training Time\n",
    "resultTrainingTimeCnn = list(cnn_metrics[\"Tempo de treinamento\"])\n",
    "resultTrainingTimeRnn = list(rnn_metrics[\"Tempo de treinamento\"])\n",
    "\n",
    "\n",
    "# Classification Time\n",
    "resultClassificationTimeCnn = list(cnn_metrics[\"Tempo de classificação\"])\n",
    "resultClassificationTimeRnn = list(rnn_metrics[\"Tempo de classificação\"])"
   ]
  },
  {
   "cell_type": "markdown",
   "metadata": {},
   "source": [
    "#### - Tendo os resultados das métricas para cada um dos modelos salvos, iremos validar as hipoteses utilizando o teste de anova caso não seja rejeitado o resultado do teste de shapiro e levene. Caso contrário iremos aplicar o teste de wilcoxon.\n",
    "\n",
    "#### - Para utilização do teste, será necessário validar inicialmente se a distribuição de dados é normal de acordo com o **teste de shapiro** e se a distribuição dos dados é homogenia com o **teste de levene**. Somente com o resultado desses testes, será possivel realizar o teste de anova.\n",
    "\n",
    "#### - A análise de acordo com os resultados dos testes, será feita levando em consideração um alfa de 0,05, sendo que os valores obtidos para o p-value terão de ser maior que o valor de alfa, caso contrário será rejeitada a hipotese nula.\n",
    "\n",
    "#### - A descrição das hipostese nula e alternativa para o teste de **anova** são demonstradas abaixo:\n",
    "\n",
    "H0 - As médias do grupo são todas iguais<br>\n",
    "HA - Nem todas as médias do grupo são iguais.<br>\n",
    "\n",
    "#### - A descrição das hipostese nula e alternativa para o teste de **wilcoxon** são demonstradas abaixo:\n",
    "\n",
    "H0 = Os dados seguem a mesma distribuição<br>\n",
    "HA = Os dados são de distribuições distintas\n"
   ]
  },
  {
   "cell_type": "markdown",
   "metadata": {},
   "source": [
    "## Análise para acurácia"
   ]
  },
  {
   "cell_type": "markdown",
   "metadata": {},
   "source": [
    "#### Shapiro para o modelo cnn"
   ]
  },
  {
   "cell_type": "code",
   "execution_count": 53,
   "metadata": {},
   "outputs": [
    {
     "name": "stdout",
     "output_type": "stream",
     "text": [
      "estatistica = 0.9017525315284729\n",
      "p-value = 0.009272380731999874\n"
     ]
    }
   ],
   "source": [
    "shapiro_test_cnn = stats.shapiro(resultAccuracyCnn)\n",
    "\n",
    "print(\"estatistica = {}\\np-value = {}\".format(shapiro_test_cnn[0], shapiro_test_cnn[1]))"
   ]
  },
  {
   "cell_type": "markdown",
   "metadata": {},
   "source": [
    "#### Shapiro para o modelo de rnn"
   ]
  },
  {
   "cell_type": "code",
   "execution_count": 54,
   "metadata": {},
   "outputs": [
    {
     "name": "stdout",
     "output_type": "stream",
     "text": [
      "estatistica = 0.968392014503479\n",
      "p-value = 0.4961685240268707\n"
     ]
    }
   ],
   "source": [
    "shapiro_test_rnn = stats.shapiro(resultAccuracyRnn)\n",
    "\n",
    "print(\"estatistica = {}\\np-value = {}\".format(shapiro_test_rnn[0], shapiro_test_rnn[1]))"
   ]
  },
  {
   "cell_type": "markdown",
   "metadata": {},
   "source": [
    "#### Teste de levene para os modelos de CNN e RNN"
   ]
  },
  {
   "cell_type": "code",
   "execution_count": 55,
   "metadata": {},
   "outputs": [
    {
     "name": "stdout",
     "output_type": "stream",
     "text": [
      "estatistica = 3.0258706175153343\n",
      "p-value = 0.08725109046671349\n"
     ]
    }
   ],
   "source": [
    "stat, p_levene = levene(resultAccuracyCnn, resultAccuracyRnn)\n",
    "\n",
    "print(\"estatistica = {}\\np-value = {}\".format(stat, p_levene))"
   ]
  },
  {
   "cell_type": "code",
   "execution_count": 56,
   "metadata": {},
   "outputs": [
    {
     "name": "stdout",
     "output_type": "stream",
     "text": [
      "estatistica = 0.0\n",
      "p-value = 1.7333066441991056e-06\n"
     ]
    }
   ],
   "source": [
    "result_wilcoxon = wilcoxon(resultAccuracyCnn, resultAccuracyRnn)\n",
    "\n",
    "print(\"estatistica = {}\\np-value = {}\".format(result_wilcoxon[0], result_wilcoxon[1]))"
   ]
  },
  {
   "cell_type": "markdown",
   "metadata": {},
   "source": []
  },
  {
   "cell_type": "markdown",
   "metadata": {},
   "source": [
    "## Análise para F1"
   ]
  },
  {
   "cell_type": "markdown",
   "metadata": {},
   "source": [
    "#### Shapiro para o modelo cnn"
   ]
  },
  {
   "cell_type": "code",
   "execution_count": 57,
   "metadata": {},
   "outputs": [
    {
     "name": "stdout",
     "output_type": "stream",
     "text": [
      "estatistica = 0.8881731033325195\n",
      "p-value = 0.0043675778433680534\n"
     ]
    }
   ],
   "source": [
    "shapiro_test_cnn = stats.shapiro(resultF1Cnn)\n",
    "\n",
    "print(\"estatistica = {}\\np-value = {}\".format(shapiro_test_cnn[0], shapiro_test_cnn[1]))"
   ]
  },
  {
   "cell_type": "markdown",
   "metadata": {},
   "source": [
    "#### Shapiro para o modelo de rnn"
   ]
  },
  {
   "cell_type": "code",
   "execution_count": 58,
   "metadata": {},
   "outputs": [
    {
     "name": "stdout",
     "output_type": "stream",
     "text": [
      "estatistica = 0.9661397933959961\n",
      "p-value = 0.4396226406097412\n"
     ]
    }
   ],
   "source": [
    "shapiro_test_rnn = stats.shapiro(resultF1Rnn)\n",
    "\n",
    "print(\"estatistica = {}\\np-value = {}\".format(shapiro_test_rnn[0], shapiro_test_rnn[1]))"
   ]
  },
  {
   "cell_type": "markdown",
   "metadata": {},
   "source": [
    "#### Teste de levene para os modelos de CNN e RNN"
   ]
  },
  {
   "cell_type": "code",
   "execution_count": 59,
   "metadata": {},
   "outputs": [
    {
     "name": "stdout",
     "output_type": "stream",
     "text": [
      "estatistica = 1.827931309241456\n",
      "p-value = 0.1816208855204623\n"
     ]
    }
   ],
   "source": [
    "stat, p_levene = levene(resultF1Cnn, resultF1Rnn)\n",
    "\n",
    "print(\"estatistica = {}\\np-value = {}\".format(stat, p_levene))"
   ]
  },
  {
   "cell_type": "code",
   "execution_count": 60,
   "metadata": {},
   "outputs": [
    {
     "name": "stdout",
     "output_type": "stream",
     "text": [
      "estatistica = 0.0\n",
      "p-value = 1.7343976283205784e-06\n"
     ]
    }
   ],
   "source": [
    "result_wilcoxon = wilcoxon(resultF1Cnn, resultF1Rnn)\n",
    "\n",
    "print(\"estatistica = {}\\np-value = {}\".format(result_wilcoxon[0], result_wilcoxon[1]))"
   ]
  },
  {
   "cell_type": "markdown",
   "metadata": {},
   "source": []
  },
  {
   "cell_type": "markdown",
   "metadata": {},
   "source": [
    "## Análise para Recall"
   ]
  },
  {
   "cell_type": "markdown",
   "metadata": {},
   "source": [
    "#### Shapiro para o modelo cnn"
   ]
  },
  {
   "cell_type": "code",
   "execution_count": 61,
   "metadata": {},
   "outputs": [
    {
     "name": "stdout",
     "output_type": "stream",
     "text": [
      "estatistica = 0.9017525315284729\n",
      "p-value = 0.009272380731999874\n"
     ]
    }
   ],
   "source": [
    "shapiro_test_cnn = stats.shapiro(resultRecallCnn)\n",
    "\n",
    "print(\"estatistica = {}\\np-value = {}\".format(shapiro_test_cnn[0], shapiro_test_cnn[1]))"
   ]
  },
  {
   "cell_type": "markdown",
   "metadata": {},
   "source": [
    "#### Shapiro para o modelo de rnn"
   ]
  },
  {
   "cell_type": "code",
   "execution_count": 62,
   "metadata": {},
   "outputs": [
    {
     "name": "stdout",
     "output_type": "stream",
     "text": [
      "estatistica = 0.968392014503479\n",
      "p-value = 0.4961685240268707\n"
     ]
    }
   ],
   "source": [
    "shapiro_test_rnn = stats.shapiro(resultRecallRnn)\n",
    "\n",
    "print(\"estatistica = {}\\np-value = {}\".format(shapiro_test_rnn[0], shapiro_test_rnn[1]))"
   ]
  },
  {
   "cell_type": "markdown",
   "metadata": {},
   "source": [
    "#### Teste de levene para os modelos de CNN e RNN"
   ]
  },
  {
   "cell_type": "code",
   "execution_count": 63,
   "metadata": {},
   "outputs": [
    {
     "name": "stdout",
     "output_type": "stream",
     "text": [
      "estatistica = 3.0258706175153343\n",
      "p-value = 0.08725109046671349\n"
     ]
    }
   ],
   "source": [
    "stat, p_levene = levene(resultRecallCnn, resultRecallRnn)\n",
    "\n",
    "print(\"estatistica = {}\\np-value = {}\".format(stat, p_levene))"
   ]
  },
  {
   "cell_type": "code",
   "execution_count": 64,
   "metadata": {},
   "outputs": [
    {
     "name": "stdout",
     "output_type": "stream",
     "text": [
      "estatistica = 0.0\n",
      "p-value = 1.7333066441991056e-06\n"
     ]
    }
   ],
   "source": [
    "result_wilcoxon = wilcoxon(resultRecallCnn, resultRecallRnn)\n",
    "\n",
    "print(\"estatistica = {}\\np-value = {}\".format(result_wilcoxon[0], result_wilcoxon[1]))"
   ]
  },
  {
   "cell_type": "markdown",
   "metadata": {},
   "source": []
  },
  {
   "cell_type": "markdown",
   "metadata": {},
   "source": [
    "## Análise para Precision"
   ]
  },
  {
   "cell_type": "markdown",
   "metadata": {},
   "source": [
    "#### Shapiro para o modelo cnn"
   ]
  },
  {
   "cell_type": "code",
   "execution_count": 65,
   "metadata": {},
   "outputs": [
    {
     "name": "stdout",
     "output_type": "stream",
     "text": [
      "estatistica = 0.8818951845169067\n",
      "p-value = 0.0031172260642051697\n"
     ]
    }
   ],
   "source": [
    "shapiro_test_cnn = stats.shapiro(resultPrecisionCnn)\n",
    "\n",
    "print(\"estatistica = {}\\np-value = {}\".format(shapiro_test_cnn[0], shapiro_test_cnn[1]))"
   ]
  },
  {
   "cell_type": "markdown",
   "metadata": {},
   "source": [
    "#### Shapiro para o modelo de rnn"
   ]
  },
  {
   "cell_type": "code",
   "execution_count": 66,
   "metadata": {},
   "outputs": [
    {
     "name": "stdout",
     "output_type": "stream",
     "text": [
      "estatistica = 0.9533449411392212\n",
      "p-value = 0.20761819183826447\n"
     ]
    }
   ],
   "source": [
    "shapiro_test_rnn = stats.shapiro(resultPrecisionRnn)\n",
    "\n",
    "print(\"estatistica = {}\\np-value = {}\".format(shapiro_test_rnn[0], shapiro_test_rnn[1]))"
   ]
  },
  {
   "cell_type": "markdown",
   "metadata": {},
   "source": [
    "#### Teste de levene para os modelos de CNN e RNN"
   ]
  },
  {
   "cell_type": "code",
   "execution_count": 67,
   "metadata": {},
   "outputs": [
    {
     "name": "stdout",
     "output_type": "stream",
     "text": [
      "estatistica = 0.0010013581223918121\n",
      "p-value = 0.9748644042742942\n"
     ]
    }
   ],
   "source": [
    "stat, p_levene = levene(resultPrecisionCnn, resultPrecisionRnn)\n",
    "\n",
    "print(\"estatistica = {}\\np-value = {}\".format(stat, p_levene))"
   ]
  },
  {
   "cell_type": "code",
   "execution_count": 68,
   "metadata": {},
   "outputs": [
    {
     "name": "stdout",
     "output_type": "stream",
     "text": [
      "estatistica = 0.0\n",
      "p-value = 1.7343976283205784e-06\n"
     ]
    }
   ],
   "source": [
    "result_wilcoxon = wilcoxon(resultPrecisionCnn, resultPrecisionRnn)\n",
    "\n",
    "print(\"estatistica = {}\\np-value = {}\".format(result_wilcoxon[0], result_wilcoxon[1]))"
   ]
  },
  {
   "cell_type": "markdown",
   "metadata": {},
   "source": []
  },
  {
   "cell_type": "markdown",
   "metadata": {},
   "source": [
    "## Análise para tempo de treinamento"
   ]
  },
  {
   "cell_type": "markdown",
   "metadata": {},
   "source": [
    "#### Shapiro para o modelo cnn"
   ]
  },
  {
   "cell_type": "code",
   "execution_count": 69,
   "metadata": {},
   "outputs": [
    {
     "name": "stdout",
     "output_type": "stream",
     "text": [
      "estatistica = 0.9313627481460571\n",
      "p-value = 0.053376201540231705\n"
     ]
    }
   ],
   "source": [
    "shapiro_test_cnn = stats.shapiro(resultTrainingTimeCnn)\n",
    "\n",
    "print(\"estatistica = {}\\np-value = {}\".format(shapiro_test_cnn[0], shapiro_test_cnn[1]))"
   ]
  },
  {
   "cell_type": "markdown",
   "metadata": {},
   "source": [
    "#### Shapiro para o modelo de rnn"
   ]
  },
  {
   "cell_type": "code",
   "execution_count": 70,
   "metadata": {},
   "outputs": [
    {
     "name": "stdout",
     "output_type": "stream",
     "text": [
      "estatistica = 0.984703004360199\n",
      "p-value = 0.9320247769355774\n"
     ]
    }
   ],
   "source": [
    "shapiro_test_rnn = stats.shapiro(resultTrainingTimeRnn)\n",
    "\n",
    "print(\"estatistica = {}\\np-value = {}\".format(shapiro_test_rnn[0], shapiro_test_rnn[1]))"
   ]
  },
  {
   "cell_type": "markdown",
   "metadata": {},
   "source": [
    "#### Teste de levene para os modelos de CNN e RNN"
   ]
  },
  {
   "cell_type": "code",
   "execution_count": 71,
   "metadata": {},
   "outputs": [
    {
     "name": "stdout",
     "output_type": "stream",
     "text": [
      "estatistica = 31.47877546237997\n",
      "p-value = 5.919258041174611e-07\n"
     ]
    }
   ],
   "source": [
    "stat, p_levene = levene(resultTrainingTimeCnn, resultTrainingTimeRnn)\n",
    "\n",
    "print(\"estatistica = {}\\np-value = {}\".format(stat, p_levene))"
   ]
  },
  {
   "cell_type": "markdown",
   "metadata": {},
   "source": []
  },
  {
   "cell_type": "markdown",
   "metadata": {},
   "source": [
    "## Análise para tempo de classificação"
   ]
  },
  {
   "cell_type": "markdown",
   "metadata": {},
   "source": [
    "#### Shapiro para o modelo cnn"
   ]
  },
  {
   "cell_type": "code",
   "execution_count": 72,
   "metadata": {},
   "outputs": [
    {
     "name": "stdout",
     "output_type": "stream",
     "text": [
      "estatistica = 0.9588926434516907\n",
      "p-value = 0.2901481091976166\n"
     ]
    }
   ],
   "source": [
    "shapiro_test_cnn = stats.shapiro(resultClassificationTimeCnn)\n",
    "\n",
    "print(\"estatistica = {}\\np-value = {}\".format(shapiro_test_cnn[0], shapiro_test_cnn[1]))"
   ]
  },
  {
   "cell_type": "markdown",
   "metadata": {},
   "source": [
    "#### Shapiro para o modelo de rnn"
   ]
  },
  {
   "cell_type": "code",
   "execution_count": 73,
   "metadata": {},
   "outputs": [
    {
     "name": "stdout",
     "output_type": "stream",
     "text": [
      "estatistica = 0.8261364698410034\n",
      "p-value = 0.00020406529074534774\n"
     ]
    }
   ],
   "source": [
    "shapiro_test_rnn = stats.shapiro(resultClassificationTimeRnn)\n",
    "\n",
    "print(\"estatistica = {}\\np-value = {}\".format(shapiro_test_rnn[0], shapiro_test_rnn[1]))"
   ]
  },
  {
   "cell_type": "markdown",
   "metadata": {},
   "source": [
    "#### Teste de levene para os modelos de CNN e RNN"
   ]
  },
  {
   "cell_type": "code",
   "execution_count": 74,
   "metadata": {},
   "outputs": [
    {
     "name": "stdout",
     "output_type": "stream",
     "text": [
      "estatistica = 0.10234936590720602\n",
      "p-value = 0.750177936619755\n"
     ]
    }
   ],
   "source": [
    "stat, p_levene = levene(resultClassificationTimeCnn, resultClassificationTimeRnn)\n",
    "\n",
    "print(\"estatistica = {}\\np-value = {}\".format(stat, p_levene))"
   ]
  },
  {
   "cell_type": "code",
   "execution_count": 75,
   "metadata": {},
   "outputs": [
    {
     "name": "stdout",
     "output_type": "stream",
     "text": [
      "estatistica = 0.0\n",
      "p-value = 1.7343976283205784e-06\n"
     ]
    }
   ],
   "source": [
    "result_wilcoxon = wilcoxon(resultClassificationTimeCnn, resultClassificationTimeRnn)\n",
    "\n",
    "print(\"estatistica = {}\\np-value = {}\".format(result_wilcoxon[0], result_wilcoxon[1]))"
   ]
  },
  {
   "cell_type": "markdown",
   "metadata": {},
   "source": []
  }
 ],
 "metadata": {
  "interpreter": {
   "hash": "59a8a324c1e808578017983f314c6829822097ccea8ce28a30bb26f50bc4cece"
  },
  "kernelspec": {
   "display_name": "Python 3.9.2 64-bit ('venv')",
   "language": "python",
   "name": "python3"
  },
  "language_info": {
   "codemirror_mode": {
    "name": "ipython",
    "version": 3
   },
   "file_extension": ".py",
   "mimetype": "text/x-python",
   "name": "python",
   "nbconvert_exporter": "python",
   "pygments_lexer": "ipython3",
   "version": "3.9.2"
  },
  "orig_nbformat": 4
 },
 "nbformat": 4,
 "nbformat_minor": 2
}
